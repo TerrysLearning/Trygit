{
 "cells": [
  {
   "cell_type": "code",
   "execution_count": 3,
   "id": "7c553d10-d50e-4423-8c6f-c3943c3cb239",
   "metadata": {},
   "outputs": [],
   "source": [
    "import numpy as np\n",
    "from plyfile import PlyData, PlyElement"
   ]
  },
  {
   "cell_type": "code",
   "execution_count": 4,
   "id": "e5636628-d5cb-4580-bf03-809fdea8adb6",
   "metadata": {},
   "outputs": [
    {
     "name": "stdout",
     "output_type": "stream",
     "text": [
      "ply\n",
      "format binary_little_endian 1.0\n",
      "comment VCGLIB generated\n",
      "element vertex 240923\n",
      "property float x\n",
      "property float y\n",
      "property float z\n",
      "property uchar red\n",
      "property uchar green\n",
      "property uchar blue\n",
      "property uchar alpha\n",
      "element face 467166\n",
      "property list uchar int vertex_indices\n",
      "end_header\n",
      "1403\n"
     ]
    }
   ],
   "source": [
    "scene_name = 'scene0137_02'\n",
    "ply_name = 'scans/' + scene_name + '/' + scene_name + '_vh_clean_2.ply' \n",
    "overs_sem = 'data_info/' + scene_name + '_overseg_sem.npy'     # every vertex overseg semantic\n",
    "overs_id = 'data_info/' + scene_name + '_overseg_ids.npy'      # every vertex overseg id \n",
    "\n",
    "plydata = PlyData.read(ply_name)\n",
    "print(plydata)\n",
    "overs_n = len(plydata['vertex'])\n",
    "\n",
    "overs_sem = np.load(overs_sem)\n",
    "assert len(overs_sem)==overs_n\n",
    "\n",
    "overs_id = np.load(overs_id)\n",
    "assert len(overs_id)==overs_n\n",
    "\n",
    "uni_overs_id = np.unique(overs_id[overs_sem!=0])\n",
    "uni_n = len(uni_overs_id)\n",
    "print(uni_n)"
   ]
  },
  {
   "cell_type": "code",
   "execution_count": 34,
   "id": "d1b72be4-e9d3-48b0-a5ee-6cb485182089",
   "metadata": {},
   "outputs": [],
   "source": [
    "over_seg_color = np.random.rand(uni_n,3)*255"
   ]
  },
  {
   "cell_type": "code",
   "execution_count": 35,
   "id": "df3d5605-aef5-4df4-8aba-d8ad49f3e235",
   "metadata": {},
   "outputs": [
    {
     "name": "stdout",
     "output_type": "stream",
     "text": [
      "0\n",
      "50\n",
      "100\n",
      "150\n",
      "200\n",
      "250\n",
      "300\n",
      "350\n",
      "400\n",
      "450\n",
      "500\n",
      "550\n",
      "600\n",
      "650\n",
      "700\n",
      "750\n",
      "800\n",
      "850\n",
      "900\n",
      "950\n",
      "1000\n",
      "1050\n",
      "1100\n",
      "1150\n",
      "1200\n",
      "1250\n",
      "1300\n",
      "1350\n",
      "1400\n"
     ]
    }
   ],
   "source": [
    "for i in range(uni_n):\n",
    "    if i%50==0:\n",
    "        print(i)\n",
    "    for j in range(overs_n):\n",
    "        if overs_sem[j] != 0 and overs_id[j]==uni_overs_id[i]:\n",
    "            plydata['vertex'][j][3] = over_seg_color[i][0]\n",
    "            plydata['vertex'][j][4] = over_seg_color[i][1]\n",
    "            plydata['vertex'][j][5] = over_seg_color[i][2]\n",
    "\n",
    "for j in range(overs_n):\n",
    "    if overs_sem[j] == 0:\n",
    "        plydata['vertex'][j][3] = 255\n",
    "        plydata['vertex'][j][4] = 255\n",
    "        plydata['vertex'][j][5] = 255"
   ]
  },
  {
   "cell_type": "code",
   "execution_count": 36,
   "id": "a43fd75e-3cc2-45bb-b332-4bb0b8409cb5",
   "metadata": {},
   "outputs": [
    {
     "name": "stdout",
     "output_type": "stream",
     "text": [
      "(0.4859726, 0.3821988, 1.350402, 163, 56, 226, 255)\n",
      "(0.4431134, 0.48261455, 1.0246881, 94, 108, 213, 255)\n"
     ]
    }
   ],
   "source": [
    "print(plydata['vertex'][1])\n",
    "print(plydata['vertex'][1000])"
   ]
  },
  {
   "cell_type": "code",
   "execution_count": 37,
   "id": "0fd7d183-d480-4937-8bb4-efe0c4cfdd5a",
   "metadata": {},
   "outputs": [],
   "source": [
    "# import numpy as np\n",
    "# print(np.load())\n",
    "with open('sample_0137_02_over.ply', mode='wb') as f: \n",
    "    PlyData(plydata, text=True).write(f)"
   ]
  },
  {
   "cell_type": "code",
   "execution_count": 29,
   "id": "3a789ab6-ee24-40e8-924b-8b4db9944178",
   "metadata": {},
   "outputs": [
    {
     "name": "stdout",
     "output_type": "stream",
     "text": [
      "[[1 1 1]\n",
      " [3 4 5]]\n"
     ]
    }
   ],
   "source": [
    "a = np.array([[1,2,4],[3,4,5]])\n",
    "b = np.array([True,False])\n",
    "a[b] = np.array([1,1,1])\n",
    "print(a)"
   ]
  },
  {
   "cell_type": "code",
   "execution_count": 127,
   "id": "fdad724f-8313-44e5-98d2-eb85c726ea31",
   "metadata": {},
   "outputs": [],
   "source": [
    "a[:,1:3]=9"
   ]
  },
  {
   "cell_type": "code",
   "execution_count": 128,
   "id": "b6c989de-b09d-4ed5-98b7-04afb18a17d7",
   "metadata": {},
   "outputs": [
    {
     "data": {
      "text/plain": [
       "array([[1, 9, 9],\n",
       "       [3, 9, 9]])"
      ]
     },
     "execution_count": 128,
     "metadata": {},
     "output_type": "execute_result"
    }
   ],
   "source": [
    "a"
   ]
  },
  {
   "cell_type": "code",
   "execution_count": 11,
   "id": "b07420ab-c03e-4397-a832-626ebcc3e2d0",
   "metadata": {},
   "outputs": [
    {
     "name": "stdout",
     "output_type": "stream",
     "text": [
      "ModeResult(mode=array([[3, 0, 6, 1]]), count=array([[4, 2, 2, 1]]))\n"
     ]
    }
   ],
   "source": [
    "from scipy import stats\n",
    "import numpy as np\n",
    "a = np.array([[3, 0, 3, 7],\n",
    "              [3, 2, 6, 2],\n",
    "              [1, 7, 2, 8],\n",
    "              [3, 0, 6, 1],\n",
    "              [3, 2, 5, 5]])\n",
    "\n",
    "print(stats.mode(a, 0))"
   ]
  },
  {
   "cell_type": "code",
   "execution_count": null,
   "id": "0e6226b5-cf14-4de7-a3af-6aba7dc1f4ab",
   "metadata": {},
   "outputs": [],
   "source": [
    "# convert the faces into array of N_f*3\n",
    "import numpy as np\n",
    "faces = []\n",
    "for f in plydata['face']:\n",
    "    faces.append(f[0])\n",
    "faces = np.array(faces)\n",
    "print(faces[1])\n",
    "np.amax(faces)\n",
    "\n",
    "count = []\n",
    "for i in range(100):\n",
    "    if i>0:\n",
    "        print(count[-1])\n",
    "    count.append(0)\n",
    "    for f in faces:\n",
    "        if i in f:\n",
    "            count[-1]+=1\n",
    "print(count[0:100])"
   ]
  }
 ],
 "metadata": {
  "kernelspec": {
   "display_name": "try",
   "language": "python",
   "name": "python3"
  },
  "language_info": {
   "codemirror_mode": {
    "name": "ipython",
    "version": 3
   },
   "file_extension": ".py",
   "mimetype": "text/x-python",
   "name": "python",
   "nbconvert_exporter": "python",
   "pygments_lexer": "ipython3",
   "version": "3.10.8 (main, Nov 24 2022, 14:13:03) [GCC 11.2.0]"
  },
  "vscode": {
   "interpreter": {
    "hash": "e692c993fed171205df1cf7dca103293499744f4273a6386ce4183013dbd70c7"
   }
  }
 },
 "nbformat": 4,
 "nbformat_minor": 5
}
